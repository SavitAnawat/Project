{
 "cells": [
  {
   "cell_type": "markdown",
   "id": "83af9031",
   "metadata": {},
   "source": [
    "## Import library"
   ]
  },
  {
   "cell_type": "code",
   "execution_count": 1,
   "id": "36d6c89b",
   "metadata": {},
   "outputs": [],
   "source": [
    "import warnings\n",
    "warnings.filterwarnings('ignore')\n",
    "import numpy as np # linear algebra\n",
    "import pandas as pd # data processing\n",
    "import matplotlib.pyplot as plt\n",
    "import seaborn as sns"
   ]
  },
  {
   "cell_type": "markdown",
   "id": "f95c3a5d",
   "metadata": {},
   "source": [
    "## Import dataset"
   ]
  },
  {
   "cell_type": "code",
   "execution_count": 2,
   "id": "f7f27ac4",
   "metadata": {},
   "outputs": [],
   "source": [
    "df = pd.read_csv('datasets/netflix_titles.csv') \n",
    "# source https://www.kaggle.com/datasets/shivamb/netflix-shows/code?datasetId=434238&sortBy=voteCount"
   ]
  },
  {
   "cell_type": "markdown",
   "id": "abd172d8",
   "metadata": {},
   "source": [
    "First let check the dataset"
   ]
  },
  {
   "cell_type": "code",
   "execution_count": 3,
   "id": "84b69652",
   "metadata": {},
   "outputs": [
    {
     "data": {
      "text/html": [
       "<div>\n",
       "<style scoped>\n",
       "    .dataframe tbody tr th:only-of-type {\n",
       "        vertical-align: middle;\n",
       "    }\n",
       "\n",
       "    .dataframe tbody tr th {\n",
       "        vertical-align: top;\n",
       "    }\n",
       "\n",
       "    .dataframe thead th {\n",
       "        text-align: right;\n",
       "    }\n",
       "</style>\n",
       "<table border=\"1\" class=\"dataframe\">\n",
       "  <thead>\n",
       "    <tr style=\"text-align: right;\">\n",
       "      <th></th>\n",
       "      <th>show_id</th>\n",
       "      <th>type</th>\n",
       "      <th>title</th>\n",
       "      <th>director</th>\n",
       "      <th>cast</th>\n",
       "      <th>country</th>\n",
       "      <th>date_added</th>\n",
       "      <th>release_year</th>\n",
       "      <th>rating</th>\n",
       "      <th>duration</th>\n",
       "      <th>listed_in</th>\n",
       "      <th>description</th>\n",
       "    </tr>\n",
       "  </thead>\n",
       "  <tbody>\n",
       "    <tr>\n",
       "      <th>0</th>\n",
       "      <td>s1</td>\n",
       "      <td>Movie</td>\n",
       "      <td>Dick Johnson Is Dead</td>\n",
       "      <td>Kirsten Johnson</td>\n",
       "      <td>NaN</td>\n",
       "      <td>United States</td>\n",
       "      <td>September 25, 2021</td>\n",
       "      <td>2020</td>\n",
       "      <td>PG-13</td>\n",
       "      <td>90 min</td>\n",
       "      <td>Documentaries</td>\n",
       "      <td>As her father nears the end of his life, filmm...</td>\n",
       "    </tr>\n",
       "    <tr>\n",
       "      <th>1</th>\n",
       "      <td>s2</td>\n",
       "      <td>TV Show</td>\n",
       "      <td>Blood &amp; Water</td>\n",
       "      <td>NaN</td>\n",
       "      <td>Ama Qamata, Khosi Ngema, Gail Mabalane, Thaban...</td>\n",
       "      <td>South Africa</td>\n",
       "      <td>September 24, 2021</td>\n",
       "      <td>2021</td>\n",
       "      <td>TV-MA</td>\n",
       "      <td>2 Seasons</td>\n",
       "      <td>International TV Shows, TV Dramas, TV Mysteries</td>\n",
       "      <td>After crossing paths at a party, a Cape Town t...</td>\n",
       "    </tr>\n",
       "    <tr>\n",
       "      <th>2</th>\n",
       "      <td>s3</td>\n",
       "      <td>TV Show</td>\n",
       "      <td>Ganglands</td>\n",
       "      <td>Julien Leclercq</td>\n",
       "      <td>Sami Bouajila, Tracy Gotoas, Samuel Jouy, Nabi...</td>\n",
       "      <td>NaN</td>\n",
       "      <td>September 24, 2021</td>\n",
       "      <td>2021</td>\n",
       "      <td>TV-MA</td>\n",
       "      <td>1 Season</td>\n",
       "      <td>Crime TV Shows, International TV Shows, TV Act...</td>\n",
       "      <td>To protect his family from a powerful drug lor...</td>\n",
       "    </tr>\n",
       "    <tr>\n",
       "      <th>3</th>\n",
       "      <td>s4</td>\n",
       "      <td>TV Show</td>\n",
       "      <td>Jailbirds New Orleans</td>\n",
       "      <td>NaN</td>\n",
       "      <td>NaN</td>\n",
       "      <td>NaN</td>\n",
       "      <td>September 24, 2021</td>\n",
       "      <td>2021</td>\n",
       "      <td>TV-MA</td>\n",
       "      <td>1 Season</td>\n",
       "      <td>Docuseries, Reality TV</td>\n",
       "      <td>Feuds, flirtations and toilet talk go down amo...</td>\n",
       "    </tr>\n",
       "    <tr>\n",
       "      <th>4</th>\n",
       "      <td>s5</td>\n",
       "      <td>TV Show</td>\n",
       "      <td>Kota Factory</td>\n",
       "      <td>NaN</td>\n",
       "      <td>Mayur More, Jitendra Kumar, Ranjan Raj, Alam K...</td>\n",
       "      <td>India</td>\n",
       "      <td>September 24, 2021</td>\n",
       "      <td>2021</td>\n",
       "      <td>TV-MA</td>\n",
       "      <td>2 Seasons</td>\n",
       "      <td>International TV Shows, Romantic TV Shows, TV ...</td>\n",
       "      <td>In a city of coaching centers known to train I...</td>\n",
       "    </tr>\n",
       "  </tbody>\n",
       "</table>\n",
       "</div>"
      ],
      "text/plain": [
       "  show_id     type                  title         director  \\\n",
       "0      s1    Movie   Dick Johnson Is Dead  Kirsten Johnson   \n",
       "1      s2  TV Show          Blood & Water              NaN   \n",
       "2      s3  TV Show              Ganglands  Julien Leclercq   \n",
       "3      s4  TV Show  Jailbirds New Orleans              NaN   \n",
       "4      s5  TV Show           Kota Factory              NaN   \n",
       "\n",
       "                                                cast        country  \\\n",
       "0                                                NaN  United States   \n",
       "1  Ama Qamata, Khosi Ngema, Gail Mabalane, Thaban...   South Africa   \n",
       "2  Sami Bouajila, Tracy Gotoas, Samuel Jouy, Nabi...            NaN   \n",
       "3                                                NaN            NaN   \n",
       "4  Mayur More, Jitendra Kumar, Ranjan Raj, Alam K...          India   \n",
       "\n",
       "           date_added  release_year rating   duration  \\\n",
       "0  September 25, 2021          2020  PG-13     90 min   \n",
       "1  September 24, 2021          2021  TV-MA  2 Seasons   \n",
       "2  September 24, 2021          2021  TV-MA   1 Season   \n",
       "3  September 24, 2021          2021  TV-MA   1 Season   \n",
       "4  September 24, 2021          2021  TV-MA  2 Seasons   \n",
       "\n",
       "                                           listed_in  \\\n",
       "0                                      Documentaries   \n",
       "1    International TV Shows, TV Dramas, TV Mysteries   \n",
       "2  Crime TV Shows, International TV Shows, TV Act...   \n",
       "3                             Docuseries, Reality TV   \n",
       "4  International TV Shows, Romantic TV Shows, TV ...   \n",
       "\n",
       "                                         description  \n",
       "0  As her father nears the end of his life, filmm...  \n",
       "1  After crossing paths at a party, a Cape Town t...  \n",
       "2  To protect his family from a powerful drug lor...  \n",
       "3  Feuds, flirtations and toilet talk go down amo...  \n",
       "4  In a city of coaching centers known to train I...  "
      ]
     },
     "execution_count": 3,
     "metadata": {},
     "output_type": "execute_result"
    }
   ],
   "source": [
    "df.head(5)"
   ]
  },
  {
   "cell_type": "code",
   "execution_count": 4,
   "id": "4a9b5592",
   "metadata": {},
   "outputs": [
    {
     "name": "stdout",
     "output_type": "stream",
     "text": [
      "<class 'pandas.core.frame.DataFrame'>\n",
      "RangeIndex: 8807 entries, 0 to 8806\n",
      "Data columns (total 12 columns):\n",
      " #   Column        Non-Null Count  Dtype \n",
      "---  ------        --------------  ----- \n",
      " 0   show_id       8807 non-null   object\n",
      " 1   type          8807 non-null   object\n",
      " 2   title         8807 non-null   object\n",
      " 3   director      6173 non-null   object\n",
      " 4   cast          7982 non-null   object\n",
      " 5   country       7976 non-null   object\n",
      " 6   date_added    8797 non-null   object\n",
      " 7   release_year  8807 non-null   int64 \n",
      " 8   rating        8803 non-null   object\n",
      " 9   duration      8804 non-null   object\n",
      " 10  listed_in     8807 non-null   object\n",
      " 11  description   8807 non-null   object\n",
      "dtypes: int64(1), object(11)\n",
      "memory usage: 825.8+ KB\n"
     ]
    }
   ],
   "source": [
    "df.info() #check column type of the dataset and infomation "
   ]
  },
  {
   "cell_type": "markdown",
   "id": "e88b439e",
   "metadata": {},
   "source": [
    "It is clear that this dataset has 14 column "
   ]
  },
  {
   "cell_type": "markdown",
   "id": "e8bde0f7",
   "metadata": {},
   "source": [
    "Check is there are na in our dataset"
   ]
  },
  {
   "cell_type": "code",
   "execution_count": 5,
   "id": "cafc1a71",
   "metadata": {},
   "outputs": [
    {
     "data": {
      "text/plain": [
       "show_id            0\n",
       "type               0\n",
       "title              0\n",
       "director        2634\n",
       "cast             825\n",
       "country          831\n",
       "date_added        10\n",
       "release_year       0\n",
       "rating             4\n",
       "duration           3\n",
       "listed_in          0\n",
       "description        0\n",
       "dtype: int64"
      ]
     },
     "execution_count": 5,
     "metadata": {},
     "output_type": "execute_result"
    }
   ],
   "source": [
    "df.isna().sum()"
   ]
  },
  {
   "cell_type": "markdown",
   "id": "a0f3adca",
   "metadata": {},
   "source": [
    "as you can see from above there are some na in our dataset espectially in director column"
   ]
  },
  {
   "cell_type": "markdown",
   "id": "ba705d00",
   "metadata": {},
   "source": [
    "## Analysis of the number of Movies vs TV Shows"
   ]
  },
  {
   "cell_type": "code",
   "execution_count": 6,
   "id": "75226b09",
   "metadata": {},
   "outputs": [
    {
     "data": {
      "text/plain": [
       "<AxesSubplot:xlabel='type', ylabel='count'>"
      ]
     },
     "execution_count": 6,
     "metadata": {},
     "output_type": "execute_result"
    },
    {
     "data": {
      "image/png": "[encoded data removed]",
      "text/plain": [
       "<Figure size 432x288 with 1 Axes>"
      ]
     },
     "metadata": {
      "needs_background": "light"
     },
     "output_type": "display_data"
    }
   ],
   "source": [
    "sns.countplot(x='type',data=df)"
   ]
  },
  {
   "cell_type": "markdown",
   "id": "55660d92",
   "metadata": {},
   "source": [
    "it's show that there are more Movie than TV show on NETFLIX"
   ]
  },
  {
   "cell_type": "markdown",
   "id": "08aea4b3",
   "metadata": {},
   "source": [
    "## Analysis of the number of rating"
   ]
  },
  {
   "cell_type": "code",
   "execution_count": 7,
   "id": "5e2e1b45",
   "metadata": {},
   "outputs": [
    {
     "data": {
      "image/png": "[encoded data removed]",
      "text/plain": [
       "<Figure size 864x720 with 1 Axes>"
      ]
     },
     "metadata": {
      "needs_background": "light"
     },
     "output_type": "display_data"
    }
   ],
   "source": [
    "plt.figure(figsize=(12,10))\n",
    "ax = sns.countplot(x='rating',data=df,order=df['rating'].value_counts().index[0:15])\n",
    "\n",
    "# ax.tick_params(axis=\"x\", labelrotation=90)"
   ]
  },
  {
   "cell_type": "markdown",
   "id": "bf52088d",
   "metadata": {},
   "source": [
    "TV-MA(or rate 18+) is the highest count on netflix.\n",
    "\n",
    "\"TV-MA\" is specifically designed to be viewed by adults and therefore may be unsuitable for children under 17\n",
    "\n",
    "Following by TV-14 which is the content for chuldren younger than 14 years old\n",
    "\n"
   ]
  },
  {
   "cell_type": "markdown",
   "id": "c99f86ae",
   "metadata": {},
   "source": [
    "## Date added analysis"
   ]
  },
  {
   "cell_type": "code",
   "execution_count": 8,
   "id": "7edc9d98",
   "metadata": {},
   "outputs": [],
   "source": [
    "df['date_added'] = pd.to_datetime(df['date_added']) # change datatype to datetime"
   ]
  },
  {
   "cell_type": "code",
   "execution_count": 9,
   "id": "df37ded7",
   "metadata": {},
   "outputs": [
    {
     "data": {
      "text/plain": [
       "show_id                 object\n",
       "type                    object\n",
       "title                   object\n",
       "director                object\n",
       "cast                    object\n",
       "country                 object\n",
       "date_added      datetime64[ns]\n",
       "release_year             int64\n",
       "rating                  object\n",
       "duration                object\n",
       "listed_in               object\n",
       "description             object\n",
       "dtype: object"
      ]
     },
     "execution_count": 9,
     "metadata": {},
     "output_type": "execute_result"
    }
   ],
   "source": [
    "df.dtypes"
   ]
  },
  {
   "cell_type": "code",
   "execution_count": 10,
   "id": "c7b7f994",
   "metadata": {},
   "outputs": [],
   "source": [
    "df['month_added'] = df['date_added'].dt.month_name() \n",
    "df['year_added'] = df['date_added'].dt.year.convert_dtypes()"
   ]
  },
  {
   "cell_type": "code",
   "execution_count": 11,
   "id": "ac85ec60",
   "metadata": {},
   "outputs": [
    {
     "data": {
      "text/plain": [
       "0       September\n",
       "1       September\n",
       "2       September\n",
       "3       September\n",
       "4       September\n",
       "          ...    \n",
       "8802     November\n",
       "8803         July\n",
       "8804     November\n",
       "8805      January\n",
       "8806        March\n",
       "Name: month_added, Length: 8807, dtype: object"
      ]
     },
     "execution_count": 11,
     "metadata": {},
     "output_type": "execute_result"
    }
   ],
   "source": [
    "df['month_added']"
   ]
  },
  {
   "cell_type": "code",
   "execution_count": 12,
   "id": "b3df5f97",
   "metadata": {},
   "outputs": [
    {
     "data": {
      "image/png": "[encoded data removed]",
      "text/plain": [
       "<Figure size 720x576 with 1 Axes>"
      ]
     },
     "metadata": {
      "needs_background": "light"
     },
     "output_type": "display_data"
    }
   ],
   "source": [
    "plt.figure(figsize=(10,8))\n",
    "ax = sns.countplot(x='month_added',data=df)\n",
    "ax.tick_params(axis=\"x\", labelrotation=70)"
   ]
  },
  {
   "cell_type": "markdown",
   "id": "0d59f065",
   "metadata": {},
   "source": [
    "we can see that Netflix add new movie or tv show at around 700 per month"
   ]
  },
  {
   "cell_type": "code",
   "execution_count": 13,
   "id": "578f346d",
   "metadata": {},
   "outputs": [
    {
     "data": {
      "text/plain": [
       "<AxesSubplot:xlabel='year_added', ylabel='count'>"
      ]
     },
     "execution_count": 13,
     "metadata": {},
     "output_type": "execute_result"
    },
    {
     "data": {
      "image/png": "[encoded data removed]",
      "text/plain": [
       "<Figure size 1008x720 with 1 Axes>"
      ]
     },
     "metadata": {
      "needs_background": "light"
     },
     "output_type": "display_data"
    }
   ],
   "source": [
    "plt.figure(figsize=(14,10))\n",
    "sns.countplot(x='year_added',data=df,order=df['year_added'].value_counts().index[0:10])"
   ]
  },
  {
   "cell_type": "markdown",
   "id": "accc0636",
   "metadata": {},
   "source": [
    "So, Netflix add most of their movie on 2019"
   ]
  },
  {
   "cell_type": "markdown",
   "id": "967beee1",
   "metadata": {},
   "source": [
    "## Top 5 release country analysis "
   ]
  },
  {
   "cell_type": "code",
   "execution_count": 14,
   "id": "dd54aceb",
   "metadata": {},
   "outputs": [
    {
     "data": {
      "text/plain": [
       "United States     2818\n",
       "India              972\n",
       "United Kingdom     419\n",
       "Japan              245\n",
       "South Korea        199\n",
       "Name: country, dtype: int64"
      ]
     },
     "execution_count": 14,
     "metadata": {},
     "output_type": "execute_result"
    }
   ],
   "source": [
    "df['country'].value_counts().sort_values(ascending=False).head(5)"
   ]
  },
  {
   "cell_type": "code",
   "execution_count": 15,
   "id": "d5bb693a",
   "metadata": {},
   "outputs": [
    {
     "data": {
      "text/plain": [
       "<AxesSubplot:xlabel='country', ylabel='count'>"
      ]
     },
     "execution_count": 15,
     "metadata": {},
     "output_type": "execute_result"
    },
    {
     "data": {
      "image/png": "[encoded data removed]",
      "text/plain": [
       "<Figure size 1152x720 with 1 Axes>"
      ]
     },
     "metadata": {
      "needs_background": "light"
     },
     "output_type": "display_data"
    }
   ],
   "source": [
    "plt.figure(figsize=(16,10))\n",
    "sns.countplot(x='country',data=df,order=df['country'].value_counts().index[0:15])"
   ]
  },
  {
   "cell_type": "markdown",
   "id": "f0c7f0b0",
   "metadata": {},
   "source": [
    "Most of title that Netflix release on their platfrom come from United States"
   ]
  },
  {
   "cell_type": "markdown",
   "id": "531a544d",
   "metadata": {},
   "source": [
    "## Year analysis "
   ]
  },
  {
   "cell_type": "code",
   "execution_count": 16,
   "id": "94ab2831",
   "metadata": {},
   "outputs": [
    {
     "data": {
      "image/png": "[encoded data removed]",
      "text/plain": [
       "<Figure size 864x720 with 1 Axes>"
      ]
     },
     "metadata": {
      "needs_background": "light"
     },
     "output_type": "display_data"
    }
   ],
   "source": [
    "plt.figure(figsize=(12,10))\n",
    "ax = sns.countplot(x='release_year',data=df,order=df['release_year'].value_counts().index[0:15])"
   ]
  },
  {
   "cell_type": "markdown",
   "id": "c48d6f79",
   "metadata": {},
   "source": [
    "2018 was the year that Nerflix release the most"
   ]
  },
  {
   "cell_type": "markdown",
   "id": "5b73b8f2",
   "metadata": {},
   "source": [
    "## Analysis duration of movies"
   ]
  },
  {
   "cell_type": "code",
   "execution_count": 17,
   "id": "a713ebdd",
   "metadata": {},
   "outputs": [],
   "source": [
    "movie_df = df.loc[df['type']=='Movie'] # select only movie\n",
    "movie_df['duration']=df['duration'].str.replace(' min','')"
   ]
  },
  {
   "cell_type": "code",
   "execution_count": 18,
   "id": "4c13d95f",
   "metadata": {},
   "outputs": [],
   "source": [
    "movie_df['duration'] = movie_df['duration'].astype('Int64')"
   ]
  },
  {
   "cell_type": "markdown",
   "id": "0082fe45",
   "metadata": {},
   "source": [
    "### Handle na on movie duration"
   ]
  },
  {
   "cell_type": "code",
   "execution_count": 19,
   "id": "c3fc5a78",
   "metadata": {},
   "outputs": [
    {
     "data": {
      "text/plain": [
       "count    6128.000000\n",
       "mean       99.577187\n",
       "std        28.290593\n",
       "min         3.000000\n",
       "25%        87.000000\n",
       "50%        98.000000\n",
       "75%       114.000000\n",
       "max       312.000000\n",
       "Name: duration, dtype: float64"
      ]
     },
     "execution_count": 19,
     "metadata": {},
     "output_type": "execute_result"
    }
   ],
   "source": [
    "movie_df['duration'].describe()"
   ]
  },
  {
   "cell_type": "code",
   "execution_count": 20,
   "id": "366f1b68",
   "metadata": {},
   "outputs": [
    {
     "data": {
      "text/plain": [
       "<AxesSubplot:xlabel='duration', ylabel='Count'>"
      ]
     },
     "execution_count": 20,
     "metadata": {},
     "output_type": "execute_result"
    },
    {
     "data": {
      "image/png": "[encoded data removed]",
      "text/plain": [
       "<Figure size 432x288 with 1 Axes>"
      ]
     },
     "metadata": {
      "needs_background": "light"
     },
     "output_type": "display_data"
    }
   ],
   "source": [
    "sns.histplot(x='duration',data=movie_df) "
   ]
  },
  {
   "cell_type": "markdown",
   "id": "68b91e25",
   "metadata": {},
   "source": [
    "we can see that movie duration has normal dritribution so we going to fill na with mean"
   ]
  },
  {
   "cell_type": "code",
   "execution_count": 21,
   "id": "7eef2626",
   "metadata": {},
   "outputs": [],
   "source": [
    "movie_df['duration'] = movie_df['duration'].fillna(movie_df['duration'].mean().astype(int))"
   ]
  },
  {
   "cell_type": "code",
   "execution_count": 22,
   "id": "1fa43041",
   "metadata": {},
   "outputs": [
    {
     "data": {
      "text/plain": [
       "<AxesSubplot:xlabel='duration', ylabel='Density'>"
      ]
     },
     "execution_count": 22,
     "metadata": {},
     "output_type": "execute_result"
    },
    {
     "data": {
      "image/png": "[encoded data removed]",
      "text/plain": [
       "<Figure size 432x288 with 1 Axes>"
      ]
     },
     "metadata": {
      "needs_background": "light"
     },
     "output_type": "display_data"
    }
   ],
   "source": [
    "sns.kdeplot(x='duration',data=movie_df, shade=True)"
   ]
  },
  {
   "cell_type": "markdown",
   "id": "51e30e2d",
   "metadata": {},
   "source": [
    "From the plot, it is clear that the duration of movies are around 100 min"
   ]
  },
  {
   "cell_type": "markdown",
   "id": "69eea0a8",
   "metadata": {},
   "source": [
    "## Analysis  TV Show"
   ]
  },
  {
   "cell_type": "code",
   "execution_count": 23,
   "id": "4e0d927a",
   "metadata": {},
   "outputs": [
    {
     "data": {
      "text/plain": [
       "1 Season      1793\n",
       "2 Seasons      425\n",
       "3 Seasons      199\n",
       "4 Seasons       95\n",
       "5 Seasons       65\n",
       "6 Seasons       33\n",
       "7 Seasons       23\n",
       "8 Seasons       17\n",
       "9 Seasons        9\n",
       "10 Seasons       7\n",
       "13 Seasons       3\n",
       "15 Seasons       2\n",
       "12 Seasons       2\n",
       "11 Seasons       2\n",
       "17 Seasons       1\n",
       "Name: duration, dtype: int64"
      ]
     },
     "execution_count": 23,
     "metadata": {},
     "output_type": "execute_result"
    }
   ],
   "source": [
    "TV_Show_df = df.loc[df['type']=='TV Show']\n",
    "TV_Show_df['duration'].value_counts()"
   ]
  },
  {
   "cell_type": "code",
   "execution_count": 24,
   "id": "e8d57923",
   "metadata": {},
   "outputs": [
    {
     "data": {
      "text/plain": [
       "<AxesSubplot:xlabel='duration', ylabel='count'>"
      ]
     },
     "execution_count": 24,
     "metadata": {},
     "output_type": "execute_result"
    },
    {
     "data": {
      "image/png": "[encoded data removed]",
      "text/plain": [
       "<Figure size 1152x720 with 1 Axes>"
      ]
     },
     "metadata": {
      "needs_background": "light"
     },
     "output_type": "display_data"
    }
   ],
   "source": [
    "plt.figure(figsize=(16,10))\n",
    "sns.countplot(x='duration',data=TV_Show_df,order=TV_Show_df['duration'].value_counts().index[0:15])"
   ]
  },
  {
   "cell_type": "markdown",
   "id": "36f318dd",
   "metadata": {},
   "source": [
    "As you can see most of the TV show have only 1 season"
   ]
  },
  {
   "cell_type": "markdown",
   "id": "39b519d8",
   "metadata": {},
   "source": [
    "### Find which TV show has the most season"
   ]
  },
  {
   "cell_type": "code",
   "execution_count": 25,
   "id": "c9fd88f9",
   "metadata": {},
   "outputs": [],
   "source": [
    "# handle missing value \n",
    "TV_Show_df['duration']=TV_Show_df['duration'].str.extract('(\\d+)', expand=False)\n",
    "TV_Show_df['duration']= TV_Show_df['duration'].fillna(1)\n",
    "TV_Show_df['duration'] = TV_Show_df['duration'].astype(int)"
   ]
  },
  {
   "cell_type": "code",
   "execution_count": 26,
   "id": "160f7e34",
   "metadata": {},
   "outputs": [
    {
     "data": {
      "text/plain": [
       "<AxesSubplot:xlabel='title', ylabel='duration'>"
      ]
     },
     "execution_count": 26,
     "metadata": {},
     "output_type": "execute_result"
    },
    {
     "data": {
      "image/png": "[encoded data removed]",
      "text/plain": [
       "<Figure size 1800x720 with 1 Axes>"
      ]
     },
     "metadata": {
      "needs_background": "light"
     },
     "output_type": "display_data"
    }
   ],
   "source": [
    "\n",
    "# result = TV_Show_df.groupby([\"title\"])['duration'].aggregate(np.median).reset_index().sort_values('duration',ascending=False)\n",
    "plt.figure(figsize=(25,10))\n",
    "sns.barplot(x='title',y='duration',data=TV_Show_df.nlargest(n=10, columns='duration'))"
   ]
  },
  {
   "cell_type": "markdown",
   "id": "31ffd951",
   "metadata": {},
   "source": [
    "we can see that most of the TV series are 1 season with more than 1250 series"
   ]
  },
  {
   "cell_type": "markdown",
   "id": "964d8290",
   "metadata": {},
   "source": [
    "## Find world frequencies on description"
   ]
  },
  {
   "cell_type": "code",
   "execution_count": 27,
   "id": "d263981e",
   "metadata": {},
   "outputs": [
    {
     "name": "stderr",
     "output_type": "stream",
     "text": [
      "[nltk_data] Downloading package stopwords to\n",
      "[nltk_data]     C:\\Users\\Same\\AppData\\Roaming\\nltk_data...\n",
      "[nltk_data]   Package stopwords is already up-to-date!\n"
     ]
    },
    {
     "data": {
      "text/plain": [
       "young      686\n",
       "–          606\n",
       "life       571\n",
       "new        540\n",
       "family     446\n",
       "man        441\n",
       "woman      415\n",
       "must       397\n",
       "friends    359\n",
       "two        357\n",
       "dtype: int64"
      ]
     },
     "execution_count": 27,
     "metadata": {},
     "output_type": "execute_result"
    }
   ],
   "source": [
    "# from sklearn.feature_extraction import text\n",
    "# stop = text.ENGLISH_STOP_WORDS\n",
    "import nltk\n",
    "nltk.download('stopwords')\n",
    "from nltk.corpus import stopwords\n",
    "stop = stopwords.words('english')\n",
    "df['tweet_without_stopwords'] = df['description'].apply(lambda x: ' '.join([word for word in x.split() if word.lower() not in (stop)]))\n",
    "df['tweet_without_stopwords'].str.split(expand=True).stack().value_counts()[:10]"
   ]
  },
  {
   "cell_type": "markdown",
   "id": "1600f1cf",
   "metadata": {},
   "source": [
    "This indicate that young,life and new seem to be the most popular word description for TV show and Movies"
   ]
  },
  {
   "cell_type": "code",
   "execution_count": null,
   "id": "07f2da4c",
   "metadata": {},
   "outputs": [],
   "source": []
  },
  {
   "cell_type": "code",
   "execution_count": null,
   "id": "edcc0e85",
   "metadata": {},
   "outputs": [],
   "source": []
  }
 ],
 "metadata": {
  "kernelspec": {
   "display_name": "Python 3 (ipykernel)",
   "language": "python",
   "name": "python3"
  },
  "language_info": {
   "codemirror_mode": {
    "name": "ipython",
    "version": 3
   },
   "file_extension": ".py",
   "mimetype": "text/x-python",
   "name": "python",
   "nbconvert_exporter": "python",
   "pygments_lexer": "ipython3",
   "version": "3.9.12"
  }
 },
 "nbformat": 4,
 "nbformat_minor": 5
}
